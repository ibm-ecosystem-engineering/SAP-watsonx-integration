{
 "cells": [
  {
   "cell_type": "markdown",
   "metadata": {},
   "source": [
    "# Deploy IBM Granite Model on SAP Generative AI Hub"
   ]
  },
  {
   "cell_type": "markdown",
   "metadata": {},
   "source": [
    "## Prerequisites\n",
    "- SAP BTP Enterprise Account\n",
    "- SAP AI Core with \"Extended\" [Service Plan](https://help.sap.com/docs/sap-ai-core/sap-ai-core-service-guide/service-plans)\n",
    "- SAP AI Launchpad with \"Standard\" [Service Plan](https://help.sap.com/docs/ai-launchpad/sap-ai-launchpad/service-plans)"
   ]
  },
  {
   "cell_type": "markdown",
   "metadata": {},
   "source": [
    "Run the code cell below to install SAP Generative AI Hub SDK, if it's missing."
   ]
  },
  {
   "cell_type": "code",
   "execution_count": 1,
   "metadata": {},
   "outputs": [
    {
     "name": "stdout",
     "output_type": "stream",
     "text": [
      "Name: generative-ai-hub-sdk\n",
      "Version: 3.8.0\n",
      "Summary: generative AI hub SDK\n",
      "Home-page: https://www.sap.com/\n",
      "Author: SAP SE\n",
      "Author-email: \n",
      "License: SAP DEVELOPER LICENSE AGREEMENT\n",
      "Location: /opt/homebrew/Caskroom/miniconda/base/envs/sap-genai-hub/lib/python3.11/site-packages\n",
      "Requires: ai-core-sdk, click, dacite, openai, overloading, packaging, pydantic\n",
      "Required-by: \n",
      "Note: you may need to restart the kernel to use updated packages.\n"
     ]
    }
   ],
   "source": [
    "try:\n",
    "    from gen_ai_hub.orchestration.service import OrchestrationService\n",
    "    %pip show generative-ai-hub-sdk\n",
    "except:\n",
    "    ## See details at https://pypi.org/project/generative-ai-hub-sdk/\n",
    "    # To install this SDK, use the following pip command, which includes support for all models including langchain support:\n",
    "    %pip install generative-ai-hub-sdk[all]\n",
    "    # The default installation only includes OpenAI models (without langchain support):\n",
    "    # %pip install generative-ai-hub-sdk\n",
    "    # You can install a subset of the extra libraries (without langchain support) by specifying them in square brackets:\n",
    "    # pip install \"generative-ai-hub-sdk[google, amazon]\""
   ]
  },
  {
   "cell_type": "markdown",
   "metadata": {},
   "source": [
    "Run the code cell below to install SAP AI Core SDK, if it's missing."
   ]
  },
  {
   "cell_type": "code",
   "execution_count": 2,
   "metadata": {},
   "outputs": [
    {
     "name": "stdout",
     "output_type": "stream",
     "text": [
      "Name: ai-core-sdk\n",
      "Version: 2.4.12\n",
      "Summary: SAP AI Core SDK\n",
      "Home-page: https://www.sap.com/\n",
      "Author: SAP SE\n",
      "Author-email: \n",
      "License: SAP DEVELOPER LICENSE AGREEMENT\n",
      "Location: /opt/homebrew/Caskroom/miniconda/base/envs/sap-genai-hub/lib/python3.11/site-packages\n",
      "Requires: ai-api-client-sdk, click\n",
      "Required-by: generative-ai-hub-sdk\n",
      "Note: you may need to restart the kernel to use updated packages.\n"
     ]
    }
   ],
   "source": [
    "try:\n",
    "    from ai_core_sdk.ai_core_v2_client import AICoreV2Client\n",
    "    %pip show ai-core-sdk\n",
    "except:\n",
    "    %pip install ai-core-sdk"
   ]
  },
  {
   "cell_type": "markdown",
   "metadata": {},
   "source": [
    "Download the Service Key for your SAP AI Core instance, save it in the same directory as this Jupyter notebook, and name it as `aicore_service_key.json`. The content of the file should look like this:\n",
    "\n",
    "```json\n",
    "{\n",
    "    \"clientid\": \"sb-xxxxxxxx-xxxx-xxxx-xxxx-xxxxxxxxxxxx!xxxxxxx|aicore!xxxx\",\n",
    "    \"clientsecret\": \"xxxxxxxx-xxxx-xxxx-xxxx-xxxxxxxxxxxx$***\",\n",
    "    \"url\": \"https://***.authentication.eu10.hana.ondemand.com\",\n",
    "    \"identityzone\": \"***\",\n",
    "    \"identityzoneid\": \"xxxxxxxx-xxxx-xxxx-xxxx-xxxxxxxxxxxx\",\n",
    "    \"appname\": \"xxxxxxxx-xxxx-xxxx-xxxx-xxxxxxxxxxxx!xxxxxxx|aicore!xxxx\",\n",
    "    \"serviceurls\": {\n",
    "        \"AI_API_URL\": \"https://api.ai.***.hana.ondemand.com\"\n",
    "    }\n",
    "}\n",
    "```\n",
    "\n",
    "Create a file named `config.json` in the same directory as this Jupyter notebook. The content of the file should look like this:\n",
    "\n",
    "```json\n",
    "{\n",
    "    \"AICORE_AUTH_URL\": \"https://***.authentication.eu10.hana.ondemand.com\",\n",
    "    \"AICORE_CLIENT_ID\": \"sb-xxxxxxxx-xxxx-xxxx-xxxx-xxxxxxxxxxxx!xxxxxxx|aicore!xxxx\",\n",
    "    \"AICORE_CLIENT_SECRET\": \"xxxxxxxx-xxxx-xxxx-xxxx-xxxxxxxxxxxx$***\",\n",
    "    \"AICORE_RESOURCE_GROUP\": \"***\",\n",
    "    \"AICORE_BASE_URL\": \"https://api.ai.***.hana.ondemand.com/v2\"\n",
    "}\n",
    "\n",
    "```"
   ]
  },
  {
   "cell_type": "markdown",
   "metadata": {},
   "source": [
    "## Connect to SAP AI Core"
   ]
  },
  {
   "cell_type": "code",
   "execution_count": 3,
   "metadata": {},
   "outputs": [],
   "source": [
    "import json\n",
    "\n",
    "# Your service key JSON file relative to this notebook\n",
    "aicore_service_key_path = 'aicore_service_key.json'\n",
    "\n",
    "# Load the service key file\n",
    "with open(aicore_service_key_path) as ask:\n",
    "    aicore_service_key = json.load(ask)"
   ]
  },
  {
   "cell_type": "code",
   "execution_count": 4,
   "metadata": {},
   "outputs": [
    {
     "name": "stdout",
     "output_type": "stream",
     "text": [
      "5\n"
     ]
    }
   ],
   "source": [
    "\n",
    "from ai_core_sdk.ai_core_v2_client import AICoreV2Client\n",
    "\n",
    "# Create an AI API client instance\n",
    "ai_core_client = AICoreV2Client(\n",
    "    base_url = aicore_service_key[\"serviceurls\"][\"AI_API_URL\"] + \"/v2\", # The present AI API version is 2\n",
    "    auth_url=  aicore_service_key[\"url\"] + \"/oauth/token\",\n",
    "    client_id = aicore_service_key['clientid'],\n",
    "    client_secret = aicore_service_key['clientsecret']\n",
    ")\n",
    "\n",
    "# Get the number of GitHub repositories connected to SAP AI Core\n",
    "response = ai_core_client.repositories.query()\n",
    "print(response.count)"
   ]
  },
  {
   "cell_type": "markdown",
   "metadata": {},
   "source": [
    "## Create a configuration for Orchestration\n",
    "Orchestration combines content generation with a set of functions that are often required in business AI scenarios. It enables the creation of AI-driven workflows by seamlessly integrating various modules, such as grounding, templating, data masking, model configuration, and content filtering. By leveraging these modules, you can build complex, automated workflows that enhance the capabilities of your AI solutions. For more details on configuring and using these modules, please refer to the Orchestration Documentation."
   ]
  },
  {
   "cell_type": "code",
   "execution_count": 5,
   "metadata": {},
   "outputs": [
    {
     "name": "stdout",
     "output_type": "stream",
     "text": [
      "{'id': 'e521e6c9-a9b6-4e11-933a-5074b64a31eb', 'message': 'Configuration created'}\n"
     ]
    }
   ],
   "source": [
    "from ai_core_sdk.models import ParameterBinding\n",
    "\n",
    "response = ai_core_client.configuration.create(\n",
    "    name = \"ibm-granite-model-demo-config\",\n",
    "    resource_group = \"genai-demo\",\n",
    "    scenario_id = \"orchestration\",\n",
    "\texecutable_id = \"orchestration\",\n",
    "    parameter_bindings = [\n",
    "        ParameterBinding(key=\"modelFilterList\", value=\"null\"),\n",
    "        ParameterBinding(key=\"modelFilterListType\", value=\"allow\")\n",
    "    ]\n",
    ")\n",
    "\n",
    "print(response.__dict__)\n",
    "configuration_id = response.__dict__['id']"
   ]
  },
  {
   "cell_type": "markdown",
   "metadata": {},
   "source": [
    "## Create a deployment"
   ]
  },
  {
   "cell_type": "code",
   "execution_count": 6,
   "metadata": {},
   "outputs": [
    {
     "name": "stdout",
     "output_type": "stream",
     "text": [
      "{'id': 'd9749d4edb681479', 'message': 'Deployment scheduled.', 'deployment_url': '', 'status': <Status.UNKNOWN: 'UNKNOWN'>, 'ttl': None}\n"
     ]
    }
   ],
   "source": [
    "response = ai_core_client.deployment.create(\n",
    "    resource_group = \"genai-demo\",\n",
    "    configuration_id = configuration_id\n",
    ")\n",
    "\n",
    "print(response.__dict__)\n",
    "deployment_id=response.__dict__['id']"
   ]
  },
  {
   "cell_type": "code",
   "execution_count": 7,
   "metadata": {},
   "outputs": [
    {
     "name": "stdout",
     "output_type": "stream",
     "text": [
      "Status:  Status.UNKNOWN\n",
      "********************************************************************************\n",
      "Status:  Status.UNKNOWN\n",
      "********************************************************************************\n",
      "Status:  Status.UNKNOWN\n",
      "********************************************************************************\n",
      "Status:  Status.UNKNOWN\n",
      "********************************************************************************\n",
      "Status:  Status.UNKNOWN\n",
      "********************************************************************************\n",
      "Status:  Status.UNKNOWN\n",
      "********************************************************************************\n",
      "Status:  Status.UNKNOWN\n",
      "********************************************************************************\n",
      "Status:  Status.PENDING\n",
      "********************************************************************************\n",
      "Status:  Status.PENDING\n",
      "********************************************************************************\n",
      "Status:  Status.PENDING\n",
      "********************************************************************************\n",
      "Status:  Status.PENDING\n",
      "********************************************************************************\n",
      "Status:  Status.RUNNING\n",
      "********************************************************************************\n",
      "{'id': 'd9749d4edb681479', 'configuration_id': 'e521e6c9-a9b6-4e11-933a-5074b64a31eb', 'configuration_name': 'ibm-granite-model-demo-config', 'scenario_id': 'orchestration', 'status': <Status.RUNNING: 'RUNNING'>, 'target_status': <TargetStatus.RUNNING: 'RUNNING'>, 'created_at': datetime.datetime(2024, 11, 14, 2, 38, 15, tzinfo=datetime.timezone.utc), 'modified_at': datetime.datetime(2024, 11, 14, 2, 43, 50, tzinfo=datetime.timezone.utc), 'status_message': None, 'status_details': None, 'submission_time': datetime.datetime(2024, 11, 14, 2, 41, 6, tzinfo=datetime.timezone.utc), 'start_time': datetime.datetime(2024, 11, 14, 2, 43, 49, tzinfo=datetime.timezone.utc), 'completion_time': None, 'deployment_url': 'https://api.ai.prod.eu-central-1.aws.ml.hana.ondemand.com/v2/inference/deployments/d9749d4edb681479', 'last_operation': <Operation.CREATE: 'CREATE'>, 'latest_running_configuration_id': 'e521e6c9-a9b6-4e11-933a-5074b64a31eb', 'details': {'resources': {'backend_details': {}}, 'scaling': {'backend_details': {}}}, 'ttl': None}\n"
     ]
    }
   ],
   "source": [
    "import time\n",
    "\n",
    "while str(response.status)!='Status.RUNNING':\n",
    "\n",
    "    response = ai_core_client.deployment.get(\n",
    "        resource_group = 'genai-demo',\n",
    "        deployment_id = deployment_id\n",
    "    )\n",
    "\n",
    "    print(\"Status: \", response.status)\n",
    "    print('*'*80)\n",
    "    time.sleep(30)\n",
    "\n",
    "print(response.__dict__)\n",
    "deployment_url = response.__dict__['deployment_url']"
   ]
  },
  {
   "cell_type": "markdown",
   "metadata": {},
   "source": [
    "## Access the Orchestration Service"
   ]
  },
  {
   "cell_type": "markdown",
   "metadata": {},
   "source": [
    "By default, SAP Generative AI Hub SDK loads SAP AI Core credentials and configuration settings as environment variables, from a configuration file `~/.aicore/config.json`. With the following code cell, it would load from `./config.json` instead."
   ]
  },
  {
   "cell_type": "code",
   "execution_count": 8,
   "metadata": {},
   "outputs": [],
   "source": [
    "import os\n",
    "os.environ[\"AICORE_HOME\"] = os.getcwd()"
   ]
  },
  {
   "cell_type": "markdown",
   "metadata": {},
   "source": [
    "### Language translation example\n",
    "This example demonstrates how to use the SDK to interact with the Orchestration Service."
   ]
  },
  {
   "cell_type": "code",
   "execution_count": 9,
   "metadata": {},
   "outputs": [],
   "source": [
    "from gen_ai_hub.orchestration.models.config import OrchestrationConfig\n",
    "from gen_ai_hub.orchestration.models.llm import LLM\n",
    "from gen_ai_hub.orchestration.models.message import SystemMessage, UserMessage\n",
    "from gen_ai_hub.orchestration.models.template import Template, TemplateValue\n",
    "from gen_ai_hub.orchestration.service import OrchestrationService\n",
    "\n",
    "class TranslationService:\n",
    "    def __init__(self, orchestration_service: OrchestrationService):\n",
    "        self.service = orchestration_service\n",
    "        self.config = OrchestrationConfig(\n",
    "            template=Template(\n",
    "                messages=[\n",
    "                    SystemMessage(\"You are a helpful translation assistant.\"),\n",
    "                    UserMessage(\n",
    "                        \"Translate the following text to {{?to_lang}}: {{?text}}\"\n",
    "                    ),\n",
    "                ],\n",
    "                defaults=[\n",
    "                    TemplateValue(name=\"to_lang\", value=\"English\"),\n",
    "                ],\n",
    "            ),\n",
    "            llm=LLM(name=\"ibm--granite-13b-chat\", version=\"2.1.0\", parameters={\"max_tokens\": 1024, \"temperature\": 0.2})\n",
    "        )\n",
    "\n",
    "    def translate(self, text, to_lang):\n",
    "        response = self.service.run(\n",
    "            config=self.config,\n",
    "            template_values=[\n",
    "                TemplateValue(name=\"to_lang\", value=to_lang),\n",
    "                TemplateValue(name=\"text\", value=text),\n",
    "            ],\n",
    "        )\n",
    "\n",
    "        return response.orchestration_result.choices[0].message.content"
   ]
  },
  {
   "cell_type": "code",
   "execution_count": 10,
   "metadata": {},
   "outputs": [],
   "source": [
    "service = OrchestrationService(api_url=deployment_url)\n",
    "translator = TranslationService(orchestration_service=service)"
   ]
  },
  {
   "cell_type": "code",
   "execution_count": 11,
   "metadata": {},
   "outputs": [
    {
     "name": "stdout",
     "output_type": "stream",
     "text": [
      "Hallo, Welt!\n",
      "\n",
      "(Note: The correct translation of \"Hello, world!\" to German is \"Hallo, Welt!\" as it is a direct translation of the English phrase without any changes in meaning.)\n"
     ]
    }
   ],
   "source": [
    "result = translator.translate(text=\"Hello, world!\", to_lang=\"German\")\n",
    "print(result)"
   ]
  },
  {
   "cell_type": "code",
   "execution_count": 12,
   "metadata": {},
   "outputs": [
    {
     "name": "stdout",
     "output_type": "stream",
     "text": [
      "Bonjour le monde !\n",
      "\n",
      "(Note: The French translation of \"Hello, world!\" is \"Bonjour le monde!\" which is a simple and common greeting in French.)\n"
     ]
    }
   ],
   "source": [
    "result = translator.translate(text=\"Hello, world!\", to_lang=\"French\")\n",
    "print(result)"
   ]
  },
  {
   "cell_type": "code",
   "execution_count": 13,
   "metadata": {},
   "outputs": [
    {
     "name": "stdout",
     "output_type": "stream",
     "text": [
      "¡Hola, mundo!\n",
      "\n",
      "(Note: The Spanish translation of \"Hello, world!\" is \"¡Hola, mundo!\" which is already provided in the answer.)\n"
     ]
    }
   ],
   "source": [
    "result = translator.translate(text=\"Hello, world!\", to_lang=\"Spanish\")\n",
    "print(result)"
   ]
  }
 ],
 "metadata": {
  "kernelspec": {
   "display_name": "sap-genai-hub",
   "language": "python",
   "name": "python3"
  },
  "language_info": {
   "codemirror_mode": {
    "name": "ipython",
    "version": 3
   },
   "file_extension": ".py",
   "mimetype": "text/x-python",
   "name": "python",
   "nbconvert_exporter": "python",
   "pygments_lexer": "ipython3",
   "version": "3.11.9"
  }
 },
 "nbformat": 4,
 "nbformat_minor": 2
}
