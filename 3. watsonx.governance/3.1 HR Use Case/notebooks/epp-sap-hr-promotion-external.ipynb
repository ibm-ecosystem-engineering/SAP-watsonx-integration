{
 "cells": [
  {
   "cell_type": "markdown",
   "metadata": {},
   "source": [
    "# Train a simple Employee promotion prediction model\n",
    "\n",
    "## Use Case\n",
    "\n",
    "This notebook demonstrates the implementation of a Random Forest Classification model for predicting employee promotions. The focus is on leveraging training the model with employee historical data for accurate predictions. Employee promotion prediction involves identifying factors that contribute to promotion decisions based on various features. It is an external trained model outside of watson studio and will also be deployed outside watsonx platform. The model will be tracked in watsox.gov with ai factsheet and will be monitored in openscale with explainability, fairness, bias etc\n",
    "\n",
    "## What you'll learn in this notebook\n",
    "\n",
    "Random Forest Classification: Random Forest is an ensemble learning method that constructs a multitude of decision trees during training and outputs the mode of the classes (classification) or mean prediction (regression) of the individual trees for robust and accurate predictions. Understand and implement the Random Forest algorithm for predicting employee promotions. The notebook covers the process of extracting relevant features, training the Random Forest model, and evaluating its performance in predicting employee promotions."
   ]
  },
  {
   "cell_type": "code",
   "execution_count": 5,
   "metadata": {},
   "outputs": [],
   "source": [
    "# install required libraries\n",
    "# !pip3 install botocore\n",
    "# !pip3 install pandas\n",
    "# !pip3 install matplotlib\n",
    "# !pip3 install ibm-cos-sdk\n",
    "# !pip3 install ibm_watson_machine_learning"
   ]
  },
  {
   "cell_type": "code",
   "execution_count": 6,
   "metadata": {},
   "outputs": [],
   "source": [
    "## Import required libraries\n",
    "import os, types\n",
    "import pandas as pd\n",
    "from botocore.client import Config\n",
    "import ibm_boto3\n",
    "\n",
    "import pandas as pd\n",
    "from sklearn.linear_model import LogisticRegression\n",
    "from sklearn.ensemble import RandomForestClassifier\n",
    "from sklearn.model_selection import train_test_split\n",
    "from sklearn.metrics import accuracy_score\n",
    "from sklearn.metrics import classification_report, f1_score, recall_score, precision_score, roc_auc_score, roc_curve, auc\n",
    "import matplotlib.pyplot as plt"
   ]
  },
  {
   "cell_type": "markdown",
   "metadata": {},
   "source": [
    "## Step 1: Load and prepare the data"
   ]
  },
  {
   "cell_type": "code",
   "execution_count": 7,
   "metadata": {},
   "outputs": [],
   "source": [
    "## TODO don't forget to remove before putting it in github\n",
    "\n",
    "API_KEY = '#######'\n",
    "#PROJECT_ID = os.environ['PROJECT_ID']\n",
    "LOCATION = 'https://us-south.ml.cloud.ibm.com'"
   ]
  },
  {
   "cell_type": "code",
   "execution_count": 14,
   "metadata": {},
   "outputs": [
    {
     "data": {
      "text/html": [
       "<div>\n",
       "<style scoped>\n",
       "    .dataframe tbody tr th:only-of-type {\n",
       "        vertical-align: middle;\n",
       "    }\n",
       "\n",
       "    .dataframe tbody tr th {\n",
       "        vertical-align: top;\n",
       "    }\n",
       "\n",
       "    .dataframe thead th {\n",
       "        text-align: right;\n",
       "    }\n",
       "</style>\n",
       "<table border=\"1\" class=\"dataframe\">\n",
       "  <thead>\n",
       "    <tr style=\"text-align: right;\">\n",
       "      <th></th>\n",
       "      <th>employee_id</th>\n",
       "      <th>department</th>\n",
       "      <th>region</th>\n",
       "      <th>education</th>\n",
       "      <th>gender</th>\n",
       "      <th>recruitment_channel</th>\n",
       "      <th>no_of_trainings</th>\n",
       "      <th>age</th>\n",
       "      <th>previous_year_rating</th>\n",
       "      <th>length_of_service</th>\n",
       "      <th>any_awards_won</th>\n",
       "      <th>is_promoted</th>\n",
       "      <th>kpis_met_above_80_percent</th>\n",
       "      <th>avg_training_score</th>\n",
       "    </tr>\n",
       "  </thead>\n",
       "  <tbody>\n",
       "    <tr>\n",
       "      <th>0</th>\n",
       "      <td>45709</td>\n",
       "      <td>Sales &amp; Marketing</td>\n",
       "      <td>region_31</td>\n",
       "      <td>Bachelor's</td>\n",
       "      <td>f</td>\n",
       "      <td>other</td>\n",
       "      <td>1</td>\n",
       "      <td>29</td>\n",
       "      <td>NaN</td>\n",
       "      <td>1</td>\n",
       "      <td>0</td>\n",
       "      <td>0</td>\n",
       "      <td>0</td>\n",
       "      <td>49</td>\n",
       "    </tr>\n",
       "    <tr>\n",
       "      <th>1</th>\n",
       "      <td>66874</td>\n",
       "      <td>Sales &amp; Marketing</td>\n",
       "      <td>region_27</td>\n",
       "      <td>Bachelor's</td>\n",
       "      <td>f</td>\n",
       "      <td>other</td>\n",
       "      <td>1</td>\n",
       "      <td>30</td>\n",
       "      <td>NaN</td>\n",
       "      <td>1</td>\n",
       "      <td>0</td>\n",
       "      <td>0</td>\n",
       "      <td>0</td>\n",
       "      <td>50</td>\n",
       "    </tr>\n",
       "    <tr>\n",
       "      <th>2</th>\n",
       "      <td>36904</td>\n",
       "      <td>Sales &amp; Marketing</td>\n",
       "      <td>region_15</td>\n",
       "      <td>Bachelor's</td>\n",
       "      <td>m</td>\n",
       "      <td>other</td>\n",
       "      <td>1</td>\n",
       "      <td>29</td>\n",
       "      <td>3.0</td>\n",
       "      <td>2</td>\n",
       "      <td>0</td>\n",
       "      <td>0</td>\n",
       "      <td>0</td>\n",
       "      <td>51</td>\n",
       "    </tr>\n",
       "    <tr>\n",
       "      <th>3</th>\n",
       "      <td>32877</td>\n",
       "      <td>Sales &amp; Marketing</td>\n",
       "      <td>region_2</td>\n",
       "      <td>Bachelor's</td>\n",
       "      <td>f</td>\n",
       "      <td>other</td>\n",
       "      <td>1</td>\n",
       "      <td>40</td>\n",
       "      <td>3.0</td>\n",
       "      <td>12</td>\n",
       "      <td>0</td>\n",
       "      <td>0</td>\n",
       "      <td>0</td>\n",
       "      <td>50</td>\n",
       "    </tr>\n",
       "    <tr>\n",
       "      <th>4</th>\n",
       "      <td>58415</td>\n",
       "      <td>Sales &amp; Marketing</td>\n",
       "      <td>region_7</td>\n",
       "      <td>Bachelor's</td>\n",
       "      <td>m</td>\n",
       "      <td>other</td>\n",
       "      <td>1</td>\n",
       "      <td>45</td>\n",
       "      <td>4.0</td>\n",
       "      <td>5</td>\n",
       "      <td>0</td>\n",
       "      <td>0</td>\n",
       "      <td>0</td>\n",
       "      <td>50</td>\n",
       "    </tr>\n",
       "  </tbody>\n",
       "</table>\n",
       "</div>"
      ],
      "text/plain": [
       "   employee_id         department     region   education gender  \\\n",
       "0        45709  Sales & Marketing  region_31  Bachelor's      f   \n",
       "1        66874  Sales & Marketing  region_27  Bachelor's      f   \n",
       "2        36904  Sales & Marketing  region_15  Bachelor's      m   \n",
       "3        32877  Sales & Marketing   region_2  Bachelor's      f   \n",
       "4        58415  Sales & Marketing   region_7  Bachelor's      m   \n",
       "\n",
       "  recruitment_channel  no_of_trainings  age  previous_year_rating  \\\n",
       "0               other                1   29                   NaN   \n",
       "1               other                1   30                   NaN   \n",
       "2               other                1   29                   3.0   \n",
       "3               other                1   40                   3.0   \n",
       "4               other                1   45                   4.0   \n",
       "\n",
       "   length_of_service  any_awards_won  is_promoted  kpis_met_above_80_percent  \\\n",
       "0                  1               0            0                          0   \n",
       "1                  1               0            0                          0   \n",
       "2                  2               0            0                          0   \n",
       "3                 12               0            0                          0   \n",
       "4                  5               0            0                          0   \n",
       "\n",
       "   avg_training_score  \n",
       "0                  49  \n",
       "1                  50  \n",
       "2                  51  \n",
       "3                  50  \n",
       "4                  50  "
      ]
     },
     "execution_count": 14,
     "metadata": {},
     "output_type": "execute_result"
    }
   ],
   "source": [
    "import os, types\n",
    "\n",
    "def __iter__(self): return 0\n",
    "\n",
    "# @hidden_cell\n",
    "# The following code accesses a file in your IBM Cloud Object Storage. It includes your credentials.\n",
    "# You might want to remove those credentials before you share the notebook.\n",
    "\n",
    "cos_client = ibm_boto3.client(service_name='s3',\n",
    "    ibm_api_key_id=API_KEY,\n",
    "    ibm_auth_endpoint=\"https://iam.cloud.ibm.com/oidc/token\",\n",
    "    config=Config(signature_version='oauth'),\n",
    "    endpoint_url='https://s3.private.us-south.cloud-object-storage.appdomain.cloud')\n",
    "\n",
    "bucket = 'sapwatsonxintegration-donotdelete-pr-kvn87thfzgndtd'\n",
    "object_key = 'epp_train.csv'\n",
    "\n",
    "body = cos_client.get_object(Bucket=bucket,Key=object_key)['Body']\n",
    "# add missing __iter__ method, so pandas accepts body as file-like object\n",
    "if not hasattr(body, \"__iter__\"): body.__iter__ = types.MethodType( __iter__, body )\n",
    "\n",
    "employee_data = pd.read_csv(body)\n",
    "employee_data.head(5)"
   ]
  },
  {
   "cell_type": "code",
   "execution_count": 9,
   "metadata": {},
   "outputs": [
    {
     "data": {
      "text/plain": [
       "(54808, 14)"
      ]
     },
     "execution_count": 9,
     "metadata": {},
     "output_type": "execute_result"
    }
   ],
   "source": [
    "employee_data.shape"
   ]
  },
  {
   "cell_type": "code",
   "execution_count": 15,
   "metadata": {},
   "outputs": [
    {
     "data": {
      "text/plain": [
       "Index(['employee_id', 'department', 'region', 'education', 'gender',\n",
       "       'recruitment_channel', 'no_of_trainings', 'age', 'previous_year_rating',\n",
       "       'length_of_service', 'any_awards_won', 'is_promoted',\n",
       "       'kpis_met_above_80_percent', 'avg_training_score'],\n",
       "      dtype='object')"
      ]
     },
     "execution_count": 15,
     "metadata": {},
     "output_type": "execute_result"
    }
   ],
   "source": [
    "employee_data.columns"
   ]
  },
  {
   "cell_type": "code",
   "execution_count": 16,
   "metadata": {},
   "outputs": [
    {
     "data": {
      "text/plain": [
       "Index(['department', 'education', 'gender', 'no_of_trainings', 'age',\n",
       "       'previous_year_rating', 'length_of_service', 'any_awards_won',\n",
       "       'is_promoted', 'kpis_met_above_80_percent', 'avg_training_score'],\n",
       "      dtype='object')"
      ]
     },
     "execution_count": 16,
     "metadata": {},
     "output_type": "execute_result"
    }
   ],
   "source": [
    "employee_data = employee_data.drop(columns=[\"employee_id\", \"recruitment_channel\", \"region\"])\n",
    "employee_data.columns"
   ]
  },
  {
   "cell_type": "markdown",
   "metadata": {},
   "source": [
    "## Step 2: Balance the dataset with respect to is_promoted\n",
    "\n",
    "Balancing the dataset with respect to the \"is_promoted\" variable is essential to avoid bias in the predictive model. When the dataset is imbalanced, with one class significantly outnumbering the other (e.g., promoted or not promoted employees), the model may exhibit a tendency to favor the majority class. In the context of employee promotion prediction, imbalance could lead to inaccurate predictions, especially if the majority of instances involve non-promotion.\n"
   ]
  },
  {
   "cell_type": "code",
   "execution_count": 26,
   "metadata": {},
   "outputs": [
    {
     "name": "stdout",
     "output_type": "stream",
     "text": [
      "0    4668\n",
      "1    4668\n",
      "Name: is_promoted, dtype: int64\n",
      "0    4668\n",
      "1    4668\n",
      "Name: is_promoted, dtype: int64\n"
     ]
    }
   ],
   "source": [
    "# Separate the two classes\n",
    "n = employee_data[employee_data['is_promoted'] == 1].count()[0]\n",
    "class_0_data = employee_data[employee_data['is_promoted'] == 0]\n",
    "class_1_data = employee_data[employee_data['is_promoted'] == 1]\n",
    "print(employee_data['is_promoted'].value_counts())\n",
    "# Take 3760 samples from class 0\n",
    "class_0_sampled = class_0_data.sample(n, random_state=42)\n",
    "\n",
    "# Combine the two classes to create a balanced dataset\n",
    "employee_data = pd.concat([class_0_sampled, class_1_data])\n",
    "print(employee_data['is_promoted'].value_counts())"
   ]
  },
  {
   "cell_type": "markdown",
   "metadata": {},
   "source": [
    "## Step 3: Data Preprocessing and Train-Test split\n",
    "\n",
    "Data preprocessing, including handling missing values, encoding categorical columns, and splitting the dataset into training and test sets, with a check on the class distribution in the training data."
   ]
  },
  {
   "cell_type": "code",
   "execution_count": 32,
   "metadata": {},
   "outputs": [
    {
     "data": {
      "text/plain": [
       "Index(['department', 'education', 'gender', 'no_of_trainings', 'age',\n",
       "       'previous_year_rating', 'length_of_service', 'any_awards_won',\n",
       "       'is_promoted', 'kpis_met_above_80_percent', 'avg_training_score'],\n",
       "      dtype='object')"
      ]
     },
     "execution_count": 32,
     "metadata": {},
     "output_type": "execute_result"
    }
   ],
   "source": [
    "employee_data.columns"
   ]
  },
  {
   "cell_type": "code",
   "execution_count": 33,
   "metadata": {},
   "outputs": [
    {
     "name": "stdout",
     "output_type": "stream",
     "text": [
      "Class Distribution in Training Data:\n",
      "0    3737\n",
      "1    3731\n",
      "Name: is_promoted, dtype: int64\n"
     ]
    }
   ],
   "source": [
    "# Handle missing values\n",
    "employee_data[\"education\"].fillna(employee_data[\"education\"].mode()[0], inplace=True)\n",
    "employee_data[\"previous_year_rating\"].fillna(1, inplace=True)\n",
    "\n",
    "# Encode categorical columns, The pandas.get_dummies() function is used to convert categorical variables into dummy/indicator variables.\n",
    "categorical_columns = employee_data.select_dtypes(include=['object']).columns.tolist()\n",
    "X_encoded = pd.get_dummies(employee_data, columns=categorical_columns, drop_first=True)\n",
    "\n",
    "# Split the data into features (X) and target (y)\n",
    "y = X_encoded[\"is_promoted\"]\n",
    "X_encoded = X_encoded.drop(\"is_promoted\", axis=1)\n",
    "\n",
    "# Splitting the data into training and test sets\n",
    "X_train, X_test, y_train, y_test = train_test_split(X_encoded, y, test_size=0.2, random_state=42)\n",
    "\n",
    "# Initializing a Random Forest Classifier\n",
    "# rf_classifier = RandomForestClassifier(n_estimators=100, random_state=42)\n",
    "# Check the class distribution in the training set\n",
    "class_counts = y_train.value_counts()\n",
    "print(\"Class Distribution in Training Data:\")\n",
    "print(class_counts)"
   ]
  },
  {
   "cell_type": "markdown",
   "metadata": {},
   "source": [
    "## Step 4: construct metadata for your model.\n",
    "\n",
    "This will be saved with the model itself and will appear on its Factsheet. "
   ]
  },
  {
   "cell_type": "code",
   "execution_count": 38,
   "metadata": {},
   "outputs": [],
   "source": [
    "#!pip3 install --upgrade ibm-aigov-facts-client  --no-cache | tail -n 1\n",
    "from ibm_aigov_facts_client import AIGovFactsClient"
   ]
  },
  {
   "cell_type": "code",
   "execution_count": 36,
   "metadata": {},
   "outputs": [],
   "source": [
    "## factsheet metadata variables\n",
    "EXPERIMENT_NAME='epp_model_employee_promotion_external_01'"
   ]
  },
  {
   "cell_type": "code",
   "execution_count": 107,
   "metadata": {},
   "outputs": [],
   "source": [
    "\n",
    "### Prepare ai factsheet meta data\n",
    "# Create a list to store ColumnInfo objects\n",
    "column_info_list = []\n",
    "\n",
    "# Iterate over columns and create ColumnInfo objects\n",
    "for column_name, dtype in zip(X_train.columns, X_train.dtypes):\n",
    "    cell = {\n",
    "        \"name\": column_name,\n",
    "        \"nullable\": True, \n",
    "        \"metadata\": {}, \n",
    "        \"type\": str(dtype)\n",
    "    }\n",
    "    column_info_list.append(cell)\n",
    "\n",
    "training_data_references = [\n",
    "        {\n",
    "            \"id\": EXPERIMENT_NAME,\n",
    "            \"type\": \"s3\",\n",
    "            \"connection\": {\n",
    "                \"access_key_id\": \"xNVyWFdMwLvr7zifXOb_IO8EuHCscHPKjqjUQTI8hjia\",\n",
    "                \"endpoint_url\": \"https://s3.direct.us-south.cloud-object-storage.appdomain.cloud\",\n",
    "                \"resource_instance_id\": \"crn:v1:bluemix:public:cloud-object-storage:global:a/e65910fa61ce9072d64902d03f3d4774:2d882273-f864-4224-bde6-d4a74b3143ae::\"\n",
    "            },\n",
    "            \"location\": {\n",
    "                \"bucket\": \"bucket-sap-epp\",\n",
    "                \"path\": \"epp_train.csv\"\n",
    "            },\n",
    "            \"schema\": {\n",
    "                \"id\": \"training_schema\",\n",
    "                \"fields\": column_info_list\n",
    "            }\n",
    "        }\n",
    "    ]\n",
    "#training_data_references\n",
    "\n",
    "inpunt_schema = []\n",
    "\n",
    "# Iterate over columns and create ColumnInfo objects\n",
    "for column_name, dtype in zip(X_train.columns, X_train.dtypes):\n",
    "    cell = {\n",
    "        \"feature\": column_name,\n",
    "        \"name\": column_name,\n",
    "        \"type\": str(dtype)\n",
    "    }\n",
    "    inpunt_schema.append(cell)"
   ]
  },
  {
   "cell_type": "code",
   "execution_count": 39,
   "metadata": {},
   "outputs": [
    {
     "name": "stdout",
     "output_type": "stream",
     "text": [
      "2024/02/16 09:19:11 INFO : Experiment successfully created with ID 1 and name epp_model_employee_promotion_external_01\n",
      "2024/02/16 09:19:12 INFO : AI usecases retrieved successfully\n"
     ]
    },
    {
     "data": {
      "text/plain": [
       "[{\n",
       "   \"model_usecase_id\": \"626b4d8f-da1c-4399-bcb5-b4e11c0cb8c4\",\n",
       "   \"container_type\": \"catalog\",\n",
       "   \"catalog_id\": \"581bc939-f7e4-4484-bf64-97351f6d01ce\"\n",
       " },\n",
       " {\n",
       "   \"model_usecase_id\": \"ee77712c-6190-4cf9-b331-36b30e2eee07\",\n",
       "   \"container_type\": \"catalog\",\n",
       "   \"catalog_id\": \"518fb947-be3f-43a9-90e1-7db41fc8ac09\"\n",
       " }]"
      ]
     },
     "execution_count": 39,
     "metadata": {},
     "output_type": "execute_result"
    }
   ],
   "source": [
    "## AI Govt factsheet client, using external models with manual log option, initiate client as\n",
    "facts_client= AIGovFactsClient(api_key=API_KEY,experiment_name=EXPERIMENT_NAME,enable_autolog=False,external_model=True)\n",
    "facts_client.assets.get_ai_usecases()\n"
   ]
  },
  {
   "cell_type": "code",
   "execution_count": 109,
   "metadata": {},
   "outputs": [],
   "source": [
    "from ibm_aigov_facts_client.supporting_classes.factsheet_utils import DeploymentDetails,TrainingDataReference,ExternalModelSchemas, ModelDetails\n",
    "\n",
    "## Specify model details\n",
    "model_details = ModelDetails(\n",
    "    model_type = \"scikit-learn_1.1\"\n",
    "    ,input_type = \"object\"\n",
    "    ,algorithm = \"RandomForestClassifier\"\n",
    "    ,label_type = \"class_counts\"\n",
    "    ,label_column = \"is_promoted\"\n",
    "    ,prediction_type = \"Binary Classification\"\n",
    "    ,software_spec = \"runtime-23.1-py3.10\"\n",
    "    ,provider = \"Custom Environment\"\n",
    "    )\n",
    "\n",
    "## Specify training reference data\n",
    "trainingdataref=TrainingDataReference(id=EXPERIMENT_NAME,\n",
    "            type = \"url\",\n",
    "            connection = {\n",
    "                \"url\": \"https://cloud.ibm.com/objectstorage/crn%3Av1%3Abluemix%3Apublic%3Acloud-object-storage%3Aglobal%3Aa%2Fe65910fa61ce9072d64902d03f3d4774%3A2d882273-f864-4224-bde6-d4a74b3143ae%3A%3A?bucket=bucket-sap-epp&bucketRegion=us-south&endpoint=s3.us-south.cloud-object-storage.appdomain.cloud&paneId=bucket_overview\",\n",
    "            },\n",
    "            location = {\n",
    "                \"bucket\": \"bucket-sap-epp\",\n",
    "                \"path\": \"epp_train.csv\",\n",
    "                \"source\": \"epp_train.csv\"\n",
    "            },\n",
    "            schema = {\n",
    "                \"id\": \"training_schema\",\n",
    "                \"fields\": column_info_list\n",
    "            })\n",
    "\n",
    "## Model deployment details\n",
    "deployment=DeploymentDetails(identifier='http://169.46.68.130:8080/',name=EXPERIMENT_NAME,deployment_type=\"online\",scoring_endpoint=\"/v2/predict_and_log\")\n",
    "\n",
    "## input and output schema definition\n",
    "external_schemas=ExternalModelSchemas(input=[{\"fields\": inpunt_schema,\n",
    "   }], output=[{\"fields\": [\n",
    "        {'feature': 'is_promoted', 'name': 'is_promoted', 'type': 'uint8'}\n",
    "    ]}])"
   ]
  },
  {
   "cell_type": "code",
   "execution_count": 121,
   "metadata": {},
   "outputs": [
    {
     "name": "stdout",
     "output_type": "stream",
     "text": [
      "2024/02/16 11:55:25 INFO : External model asset saved successfully under asset_id 0d5a4d6d-f87a-4248-a910-792bf285e011 and catalog 518fb947-be3f-43a9-90e1-7db41fc8ac09\n",
      "2024/02/16 11:55:26 INFO : Current model information: {'asset_id': '0d5a4d6d-f87a-4248-a910-792bf285e011', 'container_type': 'catalog', 'container_id': '518fb947-be3f-43a9-90e1-7db41fc8ac09', 'facts_type': 'modelfacts_user'}\n"
     ]
    }
   ],
   "source": [
    "## Save external model facts to watsonx.gov\n",
    "\n",
    "watsonx_factsheet = facts_client.external_model_facts.save_external_model_asset(model_identifier=\"sap-hr-use-case\"\n",
    "                                                            ,name=EXPERIMENT_NAME\n",
    "                                                            ,description=\"SAP AI Core integration, HR promotion usecase\"\n",
    "                                                            ,deployment_details=deployment\n",
    "                                                            ,training_data_reference=trainingdataref\n",
    "                                                            ,model_details=model_details\n",
    "                                                            ,schemas=external_schemas\n",
    "                                                            )\n"
   ]
  },
  {
   "cell_type": "code",
   "execution_count": 128,
   "metadata": {},
   "outputs": [],
   "source": [
    "#watsonx_factsheet.add_tracking_model_usecase(model_usecase_name=\"Platform Asset Catalog\""
   ]
  },
  {
   "cell_type": "markdown",
   "metadata": {},
   "source": [
    "## Step 5: Train the Random forest classfier model\n",
    "\n",
    "Initialization, training, and testing of a Random Forest Classifier with balanced class weights for predicting promotions in an employee dataset"
   ]
  },
  {
   "cell_type": "code",
   "execution_count": 137,
   "metadata": {},
   "outputs": [],
   "source": [
    "# Initialize a Random Forest Classifier with balanced class weights\n",
    "rf_classifier = RandomForestClassifier(n_estimators=100, random_state=100)\n",
    "\n",
    "# Training the model\n",
    "rf_classifier.fit(X_train, y_train)\n",
    "\n",
    "# Testing data prediction\n",
    "y_pred = rf_classifier.predict(X_test)\n",
    "\n",
    "# Traing data prediction\n",
    "yt_pred = rf_classifier.predict(X_train)"
   ]
  },
  {
   "cell_type": "code",
   "execution_count": 130,
   "metadata": {},
   "outputs": [
    {
     "data": {
      "text/plain": [
       "Index(['no_of_trainings', 'age', 'previous_year_rating', 'length_of_service',\n",
       "       'any_awards_won', 'kpis_met_above_80_percent', 'avg_training_score',\n",
       "       'department_Finance', 'department_HR', 'department_Legal',\n",
       "       'department_Operations', 'department_Procurement', 'department_R&D',\n",
       "       'department_Sales & Marketing', 'department_Technology',\n",
       "       'education_Below Secondary', 'education_Master's & above', 'gender_m'],\n",
       "      dtype='object')"
      ]
     },
     "execution_count": 130,
     "metadata": {},
     "output_type": "execute_result"
    }
   ],
   "source": [
    "# List of feature columns \n",
    "X_encoded.columns"
   ]
  },
  {
   "cell_type": "markdown",
   "metadata": {},
   "source": [
    "## Step 6: Model Evaluation\n",
    "\n",
    "Evaluating the training and testing accuracy scores of a Random Forest Classifier for employee promotion prediction."
   ]
  },
  {
   "cell_type": "code",
   "execution_count": 131,
   "metadata": {},
   "outputs": [
    {
     "name": "stdout",
     "output_type": "stream",
     "text": [
      "train_accuracy 0.9961167648634173\n",
      "test_accuracy 0.7853319057815846\n"
     ]
    }
   ],
   "source": [
    "# Calculating accuracy\n",
    "train_accuracy = accuracy_score(y_train, yt_pred)\n",
    "\n",
    "print(\"train_accuracy\",train_accuracy)\n",
    "\n",
    "test_accuracy = accuracy_score(y_test, y_pred)\n",
    "\n",
    "print(\"test_accuracy\",test_accuracy)"
   ]
  },
  {
   "cell_type": "code",
   "execution_count": 138,
   "metadata": {},
   "outputs": [],
   "source": [
    "#testing data \n",
    "pred_df={'no_of_trainings': {0: 1,\n",
    "  1: 1,\n",
    "  2: 1,\n",
    "  3: 2,\n",
    "  4: 1,\n",
    "  5: 2,\n",
    "  6: 1,\n",
    "  7: 1,\n",
    "  8: 1,\n",
    "  9: 1},\n",
    " 'age': {0: 35, 1: 30, 2: 34, 3: 39, 4: 45, 5: 31, 6: 31, 7: 33, 8: 28, 9: 32},\n",
    " 'previous_year_rating': {0: 5.0,\n",
    "  1: 5.0,\n",
    "  2: 3.0,\n",
    "  3: 1.0,\n",
    "  4: 3.0,\n",
    "  5: 3.0,\n",
    "  6: 3.0,\n",
    "  7: 3.0,\n",
    "  8: 4.0,\n",
    "  9: 5.0},\n",
    " 'length_of_service': {0: 8,\n",
    "  1: 4,\n",
    "  2: 7,\n",
    "  3: 10,\n",
    "  4: 2,\n",
    "  5: 7,\n",
    "  6: 5,\n",
    "  7: 6,\n",
    "  8: 5,\n",
    "  9: 5},\n",
    " 'any_awards_won': {0: 0, 1: 0, 2: 0, 3: 0, 4: 0, 5: 0, 6: 0, 7: 0, 8: 0, 9: 0},\n",
    " 'kpis_met_above_80_percent': {0: 1, 1: 0, 2: 0, 3: 0, 4: 0, 5: 0, 6: 0, 7: 0, 8: 0, 9: 1},\n",
    " 'avg_training_score': {0: 49,\n",
    "  1: 60,\n",
    "  2: 50,\n",
    "  3: 50,\n",
    "  4: 73,\n",
    "  5: 85,\n",
    "  6: 59,\n",
    "  7: 63,\n",
    "  8: 83,\n",
    "  9: 54},\n",
    " 'department_Finance': {0: 0,\n",
    "  1: 0,\n",
    "  2: 0,\n",
    "  3: 0,\n",
    "  4: 0,\n",
    "  5: 0,\n",
    "  6: 0,\n",
    "  7: 0,\n",
    "  8: 0,\n",
    "  9: 0},\n",
    " 'department_HR': {0: 0, 1: 0, 2: 0, 3: 0, 4: 0, 5: 0, 6: 0, 7: 0, 8: 0, 9: 0},\n",
    " 'department_Legal': {0: 0,\n",
    "  1: 0,\n",
    "  2: 0,\n",
    "  3: 0,\n",
    "  4: 0,\n",
    "  5: 0,\n",
    "  6: 0,\n",
    "  7: 0,\n",
    "  8: 0,\n",
    "  9: 0},\n",
    " 'department_Operations': {0: 0,\n",
    "  1: 1,\n",
    "  2: 0,\n",
    "  3: 0,\n",
    "  4: 0,\n",
    "  5: 0,\n",
    "  6: 1,\n",
    "  7: 1,\n",
    "  8: 0,\n",
    "  9: 0},\n",
    " 'department_Procurement': {0: 0,\n",
    "  1: 0,\n",
    "  2: 0,\n",
    "  3: 0,\n",
    "  4: 0,\n",
    "  5: 0,\n",
    "  6: 0,\n",
    "  7: 0,\n",
    "  8: 0,\n",
    "  9: 0},\n",
    " 'department_R&D': {0: 0,\n",
    "  1: 0,\n",
    "  2: 0,\n",
    "  3: 0,\n",
    "  4: 0,\n",
    "  5: 0,\n",
    "  6: 0,\n",
    "  7: 0,\n",
    "  8: 0,\n",
    "  9: 0},\n",
    " 'department_Sales & Marketing': {0: 1,\n",
    "  1: 0,\n",
    "  2: 1,\n",
    "  3: 1,\n",
    "  4: 0,\n",
    "  5: 0,\n",
    "  6: 0,\n",
    "  7: 0,\n",
    "  8: 0,\n",
    "  9: 1},\n",
    " 'department_Technology': {0: 0,\n",
    "  1: 0,\n",
    "  2: 0,\n",
    "  3: 0,\n",
    "  4: 1,\n",
    "  5: 0,\n",
    "  6: 0,\n",
    "  7: 0,\n",
    "  8: 0,\n",
    "  9: 0},\n",
    " 'education_Below Secondary': {0: 0,\n",
    "  1: 0,\n",
    "  2: 0,\n",
    "  3: 0,\n",
    "  4: 0,\n",
    "  5: 0,\n",
    "  6: 0,\n",
    "  7: 0,\n",
    "  8: 0,\n",
    "  9: 0},\n",
    " \"education_Master's & above\": {0: 1,\n",
    "  1: 0,\n",
    "  2: 0,\n",
    "  3: 0,\n",
    "  4: 0,\n",
    "  5: 0,\n",
    "  6: 0,\n",
    "  7: 1,\n",
    "  8: 0,\n",
    "  9: 1},\n",
    " 'gender_m': {0: 0, 1: 1, 2: 1, 3: 1, 4: 1, 5: 1, 6: 0, 7: 1, 8: 1, 9: 1}}\n",
    "pred_df=pd.DataFrame(pred_df)"
   ]
  },
  {
   "cell_type": "code",
   "execution_count": 139,
   "metadata": {},
   "outputs": [
    {
     "data": {
      "text/plain": [
       "array([[0.38  , 0.62  ],\n",
       "       [0.85  , 0.15  ],\n",
       "       [1.    , 0.    ],\n",
       "       [1.    , 0.    ],\n",
       "       [0.88  , 0.12  ],\n",
       "       [0.7625, 0.2375],\n",
       "       [0.99  , 0.01  ],\n",
       "       [0.95  , 0.05  ],\n",
       "       [0.86  , 0.14  ],\n",
       "       [0.65  , 0.35  ]])"
      ]
     },
     "execution_count": 139,
     "metadata": {},
     "output_type": "execute_result"
    }
   ],
   "source": [
    "y_prob = rf_classifier.predict_proba(pred_df)\n",
    "y_prob"
   ]
  },
  {
   "cell_type": "code",
   "execution_count": 140,
   "metadata": {},
   "outputs": [
    {
     "name": "stdout",
     "output_type": "stream",
     "text": [
      "0.7557251908396947\n",
      "0.8452508004268944\n",
      "0.797984886649874\n"
     ]
    }
   ],
   "source": [
    "from sklearn.metrics import precision_score, recall_score, f1_score\n",
    "# Compute precision\n",
    "precision = precision_score(y_test, y_pred)\n",
    "print(precision)\n",
    "\n",
    "# Compute recall\n",
    "recall = recall_score(y_test, y_pred)\n",
    "print(recall)\n",
    "\n",
    "# Compute F1-score\n",
    "f1 = f1_score(y_test, y_pred)\n",
    "print(f1)"
   ]
  },
  {
   "cell_type": "code",
   "execution_count": 141,
   "metadata": {},
   "outputs": [
    {
     "name": "stdout",
     "output_type": "stream",
     "text": [
      "Classification Report:\n",
      "              precision    recall  f1-score   support\n",
      "\n",
      "           0       0.82      0.73      0.77       931\n",
      "           1       0.76      0.85      0.80       937\n",
      "\n",
      "    accuracy                           0.79      1868\n",
      "   macro avg       0.79      0.79      0.78      1868\n",
      "weighted avg       0.79      0.79      0.78      1868\n",
      "\n",
      "F1 Score: 0.80\n",
      "Recall: 0.85\n",
      "Precision: 0.76\n",
      "AUC Score: 0.87\n"
     ]
    },
    {
     "data": {
      "image/png": "[encoded data removed]",
      "text/plain": [
       "<Figure size 640x480 with 1 Axes>"
      ]
     },
     "metadata": {},
     "output_type": "display_data"
    }
   ],
   "source": [
    "# Get predicted probabilities for class 1\n",
    "y_prob = rf_classifier.predict_proba(X_test)[:, 1]\n",
    "\n",
    "# custom_threshold = 0.4  # You can adjust this value\n",
    "# y_pred = (y_prob >= custom_threshold).astype(int)\n",
    "\n",
    "# Classification Report\n",
    "class_report = classification_report(y_test, y_pred)\n",
    "print(\"Classification Report:\")\n",
    "print(class_report)\n",
    "\n",
    "# F1 Score\n",
    "f1 = f1_score(y_test, y_pred)\n",
    "print(f\"F1 Score: {f1:.2f}\")\n",
    "\n",
    "# Recall\n",
    "recall = recall_score(y_test, y_pred)\n",
    "print(f\"Recall: {recall:.2f}\")\n",
    "\n",
    "# Precision\n",
    "precision = precision_score(y_test, y_pred)\n",
    "print(f\"Precision: {precision:.2f}\")\n",
    "\n",
    "# AUC Score\n",
    "auc_score = roc_auc_score(y_test, y_prob)\n",
    "print(f\"AUC Score: {auc_score:.2f}\")\n",
    "\n",
    "# ROC Curve\n",
    "fpr, tpr, thresholds = roc_curve(y_test, y_prob)\n",
    "roc_auc = auc(fpr, tpr)\n",
    "\n",
    "# Plot ROC curve\n",
    "plt.figure()\n",
    "plt.plot(fpr, tpr, color='darkorange', lw=2, label=f'ROC curve (area = {roc_auc:.2f})')\n",
    "plt.plot([0, 1], [0, 1], color='navy', lw=2, linestyle='--')\n",
    "plt.xlim([0.0, 1.0])\n",
    "plt.ylim([0.0, 1.05])\n",
    "plt.xlabel('False Positive Rate')\n",
    "plt.ylabel('True Positive Rate')\n",
    "plt.title('Receiver Operating Characteristic')\n",
    "plt.legend(loc=\"lower right\")\n",
    "plt.show()"
   ]
  },
  {
   "cell_type": "markdown",
   "metadata": {},
   "source": [
    "## Step 7: Save the model as pickle\n",
    "\n",
    "Saving a trained Random Forest Classifier model to a file using joblib and subsequently loading it for future use."
   ]
  },
  {
   "cell_type": "code",
   "execution_count": 144,
   "metadata": {},
   "outputs": [
    {
     "data": {
      "text/plain": [
       "['epp_model_rf_nw.pkl']"
      ]
     },
     "execution_count": 144,
     "metadata": {},
     "output_type": "execute_result"
    }
   ],
   "source": [
    "import joblib\n",
    "\n",
    "# Save the model to a file\n",
    "joblib.dump(rf_classifier, 'epp_model_rf_nw.pkl')\n",
    "\n",
    "# Load the model from the file\n",
    "# loaded_model = joblib.load('epp_model_rf_nw.pkl')\n",
    "\n",
    "# Upload the model \n",
    "# wslib.upload_file(file_path=\"epp_model_rf_nw.pkl\", asset_name=\"epp_model_rf_nw.pkl\", overwrite=True)"
   ]
  },
  {
   "cell_type": "code",
   "execution_count": 145,
   "metadata": {},
   "outputs": [
    {
     "name": "stdout",
     "output_type": "stream",
     "text": [
      "Help on class ModelDetails in module ibm_aigov_facts_client.supporting_classes.factsheet_utils:\n",
      "\n",
      "class ModelDetails(builtins.object)\n",
      " |  ModelDetails(model_type: str = None, input_type: str = None, algorithm: str = None, label_type: str = None, label_column: str = None, prediction_type: str = None, software_spec: str = None, software_spec_id: str = None, provider: str = None) -> None\n",
      " |  \n",
      " |  External model model details\n",
      " |  \n",
      " |  :attr str model_type: Value for model type\n",
      " |  :attr str input_type: Value for inout type\n",
      " |  :attr str algorithm: Value for algorithm\n",
      " |  :attr str label_type: Value for label type\n",
      " |  :attr str label_column: Value for label column\n",
      " |  :attr str prediction_type: Value for prediction type\n",
      " |  :attr str software_spec: Value for software_spec\n",
      " |  :attr str software_spec_id: Value for software_spec_id\n",
      " |  :sttr str provider: Value for provider\n",
      " |  \n",
      " |  Methods defined here:\n",
      " |  \n",
      " |  __eq__(self, other: 'ModelDetails') -> bool\n",
      " |      Return `true` when self and other are equal, false otherwise.\n",
      " |  \n",
      " |  __init__(self, model_type: str = None, input_type: str = None, algorithm: str = None, label_type: str = None, label_column: str = None, prediction_type: str = None, software_spec: str = None, software_spec_id: str = None, provider: str = None) -> None\n",
      " |      Initialize a ModelDetails object.\n",
      " |      \n",
      " |      :param str model_type: Value for model type\n",
      " |      :param str input_type: Value for inout type\n",
      " |      :param str algorithm: Value for algorithm\n",
      " |      :param str label_type: Value for label type\n",
      " |      :param str label_column: Value for label column\n",
      " |      :param str prediction_type: Value for prediction type\n",
      " |      :param str software_spec: Value for software_spec\n",
      " |      :param str software_spec_id: Value for software_spec_id\n",
      " |      :param str provider: Value for provider\n",
      " |  \n",
      " |  __ne__(self, other: 'ModelDetails') -> bool\n",
      " |      Return `true` when self and other are not equal, false otherwise.\n",
      " |  \n",
      " |  __str__(self) -> str\n",
      " |      Return a `str` version of this ModelDetails object.\n",
      " |  \n",
      " |  to_dict(self) -> Dict\n",
      " |      Return a json dictionary representing this model.\n",
      " |  \n",
      " |  ----------------------------------------------------------------------\n",
      " |  Class methods defined here:\n",
      " |  \n",
      " |  from_dict(_dict: Dict) -> 'ModelDetails' from builtins.type\n",
      " |      Initialize a ModelDetails object from a json dictionary.\n",
      " |  \n",
      " |  ----------------------------------------------------------------------\n",
      " |  Data descriptors defined here:\n",
      " |  \n",
      " |  __dict__\n",
      " |      dictionary for instance variables (if defined)\n",
      " |  \n",
      " |  __weakref__\n",
      " |      list of weak references to the object (if defined)\n",
      " |  \n",
      " |  ----------------------------------------------------------------------\n",
      " |  Data and other attributes defined here:\n",
      " |  \n",
      " |  __hash__ = None\n",
      "\n"
     ]
    }
   ],
   "source": [
    "help(ModelDetails)"
   ]
  },
  {
   "cell_type": "code",
   "execution_count": null,
   "metadata": {},
   "outputs": [],
   "source": []
  }
 ],
 "metadata": {
  "kernelspec": {
   "display_name": "ai-gov",
   "language": "python",
   "name": "python3"
  },
  "language_info": {
   "codemirror_mode": {
    "name": "ipython",
    "version": 3
   },
   "file_extension": ".py",
   "mimetype": "text/x-python",
   "name": "python",
   "nbconvert_exporter": "python",
   "pygments_lexer": "ipython3",
   "version": "3.10.13"
  }
 },
 "nbformat": 4,
 "nbformat_minor": 2
}
